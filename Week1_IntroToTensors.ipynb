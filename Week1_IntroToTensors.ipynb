{
  "cells": [
    {
      "cell_type": "markdown",
      "source": [
        "This code is mainly by Edward Raff - https://github.com/EdwardRaff/Inside-Deep-Learning\n",
        "\n",
        "Modified by Arunesh Sinha"
      ],
      "metadata": {
        "id": "UZKv_TJ5JIuU"
      }
    },
    {
      "cell_type": "code",
      "execution_count": 1,
      "metadata": {
        "ExecuteTime": {
          "end_time": "2021-03-22T05:32:54.107372Z",
          "start_time": "2021-03-22T05:32:53.400242Z"
        },
        "tags": [
          "remove_output"
        ],
        "id": "EDbXxvK3fvah",
        "colab": {
          "base_uri": "https://localhost:8080/"
        },
        "outputId": "4030ad20-74d1-447e-e775-388b9462e0bc"
      },
      "outputs": [
        {
          "output_type": "stream",
          "name": "stderr",
          "text": [
            "<ipython-input-1-93e2626d8a4a>:4: TqdmExperimentalWarning: Using `tqdm.autonotebook.tqdm` in notebook mode. Use `tqdm.tqdm` instead to force console mode (e.g. in jupyter console)\n",
            "  from tqdm.autonotebook import tqdm\n"
          ]
        }
      ],
      "source": [
        "import seaborn as sns\n",
        "import matplotlib.pyplot as plt\n",
        "import numpy as np\n",
        "from tqdm.autonotebook import tqdm\n",
        "import pandas as pd"
      ]
    },
    {
      "cell_type": "code",
      "execution_count": 2,
      "metadata": {
        "ExecuteTime": {
          "end_time": "2021-03-22T05:32:54.114216Z",
          "start_time": "2021-03-22T05:32:54.109474Z"
        },
        "tags": [
          "remove_cell"
        ],
        "id": "jrKz7URMfvaj",
        "colab": {
          "base_uri": "https://localhost:8080/"
        },
        "outputId": "744ff06b-8ba0-4d60-85ef-35cbe670cde0"
      },
      "outputs": [
        {
          "output_type": "stream",
          "name": "stderr",
          "text": [
            "<ipython-input-2-475911aa0aa9>:3: DeprecationWarning: `set_matplotlib_formats` is deprecated since IPython 7.23, directly use `matplotlib_inline.backend_inline.set_matplotlib_formats()`\n",
            "  set_matplotlib_formats('png', 'pdf')\n"
          ]
        }
      ],
      "source": [
        "%matplotlib inline\n",
        "from IPython.display import set_matplotlib_formats\n",
        "set_matplotlib_formats('png', 'pdf')"
      ]
    },
    {
      "cell_type": "code",
      "execution_count": 3,
      "metadata": {
        "ExecuteTime": {
          "end_time": "2021-03-22T05:32:54.669963Z",
          "start_time": "2021-03-22T05:32:54.116147Z"
        },
        "id": "cQgAU7vQfvak",
        "colab": {
          "base_uri": "https://localhost:8080/"
        },
        "outputId": "619b750e-ca57-4391-b964-27b01d3ed14e"
      },
      "outputs": [
        {
          "output_type": "stream",
          "name": "stdout",
          "text": [
            "2.5.1+cu121\n"
          ]
        }
      ],
      "source": [
        "import torch\n",
        "print(torch.__version__)"
      ]
    },
    {
      "cell_type": "code",
      "source": [
        "!python --version"
      ],
      "metadata": {
        "colab": {
          "base_uri": "https://localhost:8080/"
        },
        "id": "cd9Hr4YwXUYp",
        "outputId": "6c5edd37-590e-4dd4-e877-5661824249d2"
      },
      "execution_count": 4,
      "outputs": [
        {
          "output_type": "stream",
          "name": "stdout",
          "text": [
            "Python 3.11.11\n"
          ]
        }
      ]
    },
    {
      "cell_type": "code",
      "execution_count": 5,
      "metadata": {
        "ExecuteTime": {
          "end_time": "2021-03-22T05:32:54.676062Z",
          "start_time": "2021-03-22T05:32:54.671481Z"
        },
        "id": "YY4boakAfvak"
      },
      "outputs": [],
      "source": [
        "torch_scalar = torch.tensor(3.14)\n",
        "torch_vector = torch.tensor([1, 2, 3, 4])\n",
        "torch_matrix = torch.tensor([[1, 2,],\n",
        "                             [3, 4,],\n",
        "                             [5, 6,],\n",
        "                             [7, 8,]])\n",
        "#You don't have to format it like I did, thats just for clarity\n",
        "torch_tensor3d = torch.tensor([\n",
        "                            [\n",
        "                            [ 1,  2,  3],\n",
        "                            [ 4,  5,  6],\n",
        "                            ],\n",
        "                            [\n",
        "                            [ 7,  8,  9],\n",
        "                            [10, 11, 12],\n",
        "                            ],\n",
        "                            [\n",
        "                            [13, 14, 15],\n",
        "                            [16, 17, 18],\n",
        "                            ],\n",
        "                            [\n",
        "                            [19, 20, 21],\n",
        "                            [22, 23, 24],\n",
        "                            ]\n",
        "                              ])"
      ]
    },
    {
      "cell_type": "code",
      "execution_count": 6,
      "metadata": {
        "ExecuteTime": {
          "end_time": "2021-03-22T05:32:54.688664Z",
          "start_time": "2021-03-22T05:32:54.677220Z"
        },
        "id": "ucn5nOOjfvak",
        "colab": {
          "base_uri": "https://localhost:8080/"
        },
        "outputId": "f336b12c-f326-4aa5-b840-8d84f652d217"
      },
      "outputs": [
        {
          "output_type": "stream",
          "name": "stdout",
          "text": [
            "torch.Size([])\n",
            "torch.Size([4])\n",
            "torch.Size([4, 2])\n",
            "torch.Size([4, 2, 3])\n"
          ]
        }
      ],
      "source": [
        "print(torch_scalar.shape)\n",
        "print(torch_vector.shape)\n",
        "print(torch_matrix.shape)\n",
        "print(torch_tensor3d.shape)"
      ]
    },
    {
      "cell_type": "code",
      "execution_count": 7,
      "metadata": {
        "ExecuteTime": {
          "end_time": "2021-03-22T05:32:54.694456Z",
          "start_time": "2021-03-22T05:32:54.690164Z"
        },
        "id": "qOHDdqtCfval",
        "colab": {
          "base_uri": "https://localhost:8080/"
        },
        "outputId": "84d7a05e-5d76-4a84-b910-0226380f6a57"
      },
      "outputs": [
        {
          "output_type": "stream",
          "name": "stdout",
          "text": [
            "[[0.6871098  0.50773132 0.17269064 0.45411499]\n",
            " [0.5355536  0.0304786  0.0155566  0.45035733]\n",
            " [0.41691169 0.1996019  0.67393001 0.93133536]\n",
            " [0.16359732 0.14186881 0.24691366 0.21292915]]\n"
          ]
        }
      ],
      "source": [
        "x_np = np.random.random((4,4))\n",
        "print(x_np)"
      ]
    },
    {
      "cell_type": "code",
      "execution_count": 8,
      "metadata": {
        "ExecuteTime": {
          "end_time": "2021-03-22T05:32:54.701736Z",
          "start_time": "2021-03-22T05:32:54.697048Z"
        },
        "id": "yIlTJovVfval",
        "colab": {
          "base_uri": "https://localhost:8080/"
        },
        "outputId": "bb0b8f7e-0b01-4cf4-b153-0fb1c355ecd1"
      },
      "outputs": [
        {
          "output_type": "stream",
          "name": "stdout",
          "text": [
            "tensor([[0.6871, 0.5077, 0.1727, 0.4541],\n",
            "        [0.5356, 0.0305, 0.0156, 0.4504],\n",
            "        [0.4169, 0.1996, 0.6739, 0.9313],\n",
            "        [0.1636, 0.1419, 0.2469, 0.2129]], dtype=torch.float64)\n"
          ]
        }
      ],
      "source": [
        "x_pt = torch.tensor(x_np)\n",
        "print(x_pt)"
      ]
    },
    {
      "cell_type": "code",
      "execution_count": 9,
      "metadata": {
        "ExecuteTime": {
          "end_time": "2021-03-22T05:32:54.708524Z",
          "start_time": "2021-03-22T05:32:54.703648Z"
        },
        "id": "YOh4KyE3fval",
        "colab": {
          "base_uri": "https://localhost:8080/"
        },
        "outputId": "7eaee4c2-64e9-4591-8fdf-93fa1735ea55"
      },
      "outputs": [
        {
          "output_type": "stream",
          "name": "stdout",
          "text": [
            "float64 torch.float64\n"
          ]
        }
      ],
      "source": [
        "print(x_np.dtype, x_pt.dtype)"
      ]
    },
    {
      "cell_type": "code",
      "execution_count": 10,
      "metadata": {
        "ExecuteTime": {
          "end_time": "2021-03-22T05:32:54.715713Z",
          "start_time": "2021-03-22T05:32:54.710165Z"
        },
        "id": "NpQ3dFxxfval",
        "colab": {
          "base_uri": "https://localhost:8080/"
        },
        "outputId": "54ffce24-47d4-483c-9393-66b8b2f76fa5"
      },
      "outputs": [
        {
          "output_type": "stream",
          "name": "stdout",
          "text": [
            "float32 torch.float32\n"
          ]
        }
      ],
      "source": [
        "#Lets force them to be 32-bit floats\n",
        "x_np = np.asarray(x_np, dtype=np.float32)\n",
        "x_pt = torch.tensor(x_np, dtype=torch.float32)\n",
        "print(x_np.dtype, x_pt.dtype)"
      ]
    },
    {
      "cell_type": "code",
      "execution_count": 12,
      "metadata": {
        "ExecuteTime": {
          "end_time": "2021-03-22T05:32:54.722368Z",
          "start_time": "2021-03-22T05:32:54.717373Z"
        },
        "id": "U-oBg0ytfvam",
        "colab": {
          "base_uri": "https://localhost:8080/"
        },
        "outputId": "d40a71ff-2c87-4f2b-a3b5-440f36145fc9"
      },
      "outputs": [
        {
          "output_type": "stream",
          "name": "stdout",
          "text": [
            "[[ True  True False False]\n",
            " [ True False False False]\n",
            " [False False  True  True]\n",
            " [False False False False]]\n",
            "bool\n"
          ]
        }
      ],
      "source": [
        "b_np = (x_np > 0.5)\n",
        "print(b_np)\n",
        "print(b_np.dtype)"
      ]
    },
    {
      "cell_type": "code",
      "execution_count": 13,
      "metadata": {
        "ExecuteTime": {
          "end_time": "2021-03-22T05:32:54.729593Z",
          "start_time": "2021-03-22T05:32:54.724132Z"
        },
        "id": "j8F3lHIpfvam",
        "colab": {
          "base_uri": "https://localhost:8080/"
        },
        "outputId": "abc49748-c170-4ddd-8505-94e31a19232b"
      },
      "outputs": [
        {
          "output_type": "stream",
          "name": "stdout",
          "text": [
            "tensor([[ True,  True, False, False],\n",
            "        [ True, False, False, False],\n",
            "        [False, False,  True,  True],\n",
            "        [False, False, False, False]])\n",
            "torch.bool\n"
          ]
        }
      ],
      "source": [
        "b_pt = (x_pt > 0.5)\n",
        "print(b_pt)\n",
        "print(b_pt.dtype)"
      ]
    },
    {
      "cell_type": "code",
      "execution_count": 14,
      "metadata": {
        "ExecuteTime": {
          "end_time": "2021-03-22T05:32:54.737835Z",
          "start_time": "2021-03-22T05:32:54.730952Z"
        },
        "id": "LcAstANCfvam",
        "outputId": "6cfa6ea1-887e-49c9-9778-1583e9641c77",
        "colab": {
          "base_uri": "https://localhost:8080/"
        }
      },
      "outputs": [
        {
          "output_type": "execute_result",
          "data": {
            "text/plain": [
              "5.8406806"
            ]
          },
          "metadata": {},
          "execution_count": 14
        }
      ],
      "source": [
        "np.sum(x_np)"
      ]
    },
    {
      "cell_type": "code",
      "execution_count": 15,
      "metadata": {
        "ExecuteTime": {
          "end_time": "2021-03-22T05:32:54.743037Z",
          "start_time": "2021-03-22T05:32:54.739198Z"
        },
        "id": "36UT2MRSfvam",
        "outputId": "1a9f7eb6-ae64-45d7-ad58-c8022af00c94",
        "colab": {
          "base_uri": "https://localhost:8080/"
        }
      },
      "outputs": [
        {
          "output_type": "execute_result",
          "data": {
            "text/plain": [
              "tensor(5.8407)"
            ]
          },
          "metadata": {},
          "execution_count": 15
        }
      ],
      "source": [
        "torch.sum(x_pt)"
      ]
    },
    {
      "cell_type": "code",
      "execution_count": 16,
      "metadata": {
        "ExecuteTime": {
          "end_time": "2021-03-22T05:32:54.747879Z",
          "start_time": "2021-03-22T05:32:54.744383Z"
        },
        "id": "hmgoOmmQfvan",
        "outputId": "c638297f-dcbd-44d4-9311-12a14ed4ed4e",
        "colab": {
          "base_uri": "https://localhost:8080/"
        }
      },
      "outputs": [
        {
          "output_type": "execute_result",
          "data": {
            "text/plain": [
              "array([[0.6871098 , 0.5355536 , 0.4169117 , 0.16359732],\n",
              "       [0.5077313 , 0.0304786 , 0.1996019 , 0.14186881],\n",
              "       [0.17269063, 0.0155566 , 0.67393   , 0.24691366],\n",
              "       [0.45411497, 0.45035735, 0.93133533, 0.21292916]], dtype=float32)"
            ]
          },
          "metadata": {},
          "execution_count": 16
        }
      ],
      "source": [
        "np.transpose(x_np)"
      ]
    },
    {
      "cell_type": "code",
      "execution_count": 17,
      "metadata": {
        "ExecuteTime": {
          "end_time": "2021-03-22T05:32:54.755058Z",
          "start_time": "2021-03-22T05:32:54.749723Z"
        },
        "id": "uMTlO1qHfvan",
        "colab": {
          "base_uri": "https://localhost:8080/"
        },
        "outputId": "34760c96-3c56-42bb-b269-cc3e69b98f75"
      },
      "outputs": [
        {
          "output_type": "execute_result",
          "data": {
            "text/plain": [
              "tensor([[0.6871, 0.5356, 0.4169, 0.1636],\n",
              "        [0.5077, 0.0305, 0.1996, 0.1419],\n",
              "        [0.1727, 0.0156, 0.6739, 0.2469],\n",
              "        [0.4541, 0.4504, 0.9313, 0.2129]])"
            ]
          },
          "metadata": {},
          "execution_count": 17
        }
      ],
      "source": [
        "# torch transpose not same as numpy transpose, remember always use https://pytorch.org/docs/stable/index.html\n",
        "torch.transpose(x_pt, 0, 1)"
      ]
    },
    {
      "cell_type": "code",
      "execution_count": 18,
      "metadata": {
        "ExecuteTime": {
          "end_time": "2021-03-22T05:32:54.763796Z",
          "start_time": "2021-03-22T05:32:54.756945Z"
        },
        "id": "apnvjjj_fvan",
        "colab": {
          "base_uri": "https://localhost:8080/"
        },
        "outputId": "ad5fc1da-cc95-4f04-d416-20b27eac88fe"
      },
      "outputs": [
        {
          "output_type": "stream",
          "name": "stdout",
          "text": [
            "torch.Size([3, 2, 4])\n"
          ]
        }
      ],
      "source": [
        "print(torch.transpose(torch_tensor3d, 0, 2).shape)"
      ]
    },
    {
      "cell_type": "code",
      "execution_count": 19,
      "metadata": {
        "ExecuteTime": {
          "end_time": "2021-03-22T05:32:59.532902Z",
          "start_time": "2021-03-22T05:32:54.765163Z"
        },
        "id": "yfW9_RTjfvan"
      },
      "outputs": [],
      "source": [
        "import timeit\n",
        "x = torch.rand(2**11, 2**11)\n",
        "time_cpu = timeit.timeit(\"x@x\", globals=globals(), number=100)"
      ]
    },
    {
      "cell_type": "code",
      "execution_count": 20,
      "metadata": {
        "ExecuteTime": {
          "end_time": "2021-03-22T05:32:59.578188Z",
          "start_time": "2021-03-22T05:32:59.539627Z"
        },
        "colab": {
          "base_uri": "https://localhost:8080/"
        },
        "id": "mI_80r1Zfvan",
        "outputId": "d1d5926b-690f-4058-e558-0473d9576a8d"
      },
      "outputs": [
        {
          "output_type": "stream",
          "name": "stdout",
          "text": [
            "Is CUDA available? : True\n"
          ]
        }
      ],
      "source": [
        "print(\"Is CUDA available? :\", torch.cuda.is_available())\n",
        "device = torch.device(\"cuda\")"
      ]
    },
    {
      "cell_type": "code",
      "execution_count": 21,
      "metadata": {
        "ExecuteTime": {
          "end_time": "2021-03-22T05:33:01.740576Z",
          "start_time": "2021-03-22T05:32:59.580308Z"
        },
        "id": "ps5Ih0xCfvan"
      },
      "outputs": [],
      "source": [
        "x = x.to(device)\n",
        "time_gpu = timeit.timeit(\"x@x\", globals=globals(), number=100)"
      ]
    },
    {
      "cell_type": "code",
      "source": [
        "x = torch.rand(128, 128).to(device)\n",
        "y = torch.rand(128, 128)\n",
        "x*y"
      ],
      "metadata": {
        "colab": {
          "base_uri": "https://localhost:8080/",
          "height": 176
        },
        "id": "8S_FqVpAShp_",
        "outputId": "256d9ffa-98d4-404b-a460-56c78680b573"
      },
      "execution_count": 22,
      "outputs": [
        {
          "output_type": "error",
          "ename": "RuntimeError",
          "evalue": "Expected all tensors to be on the same device, but found at least two devices, cuda:0 and cpu!",
          "traceback": [
            "\u001b[0;31m---------------------------------------------------------------------------\u001b[0m",
            "\u001b[0;31mRuntimeError\u001b[0m                              Traceback (most recent call last)",
            "\u001b[0;32m<ipython-input-22-153fa9845a51>\u001b[0m in \u001b[0;36m<cell line: 0>\u001b[0;34m()\u001b[0m\n\u001b[1;32m      1\u001b[0m \u001b[0mx\u001b[0m \u001b[0;34m=\u001b[0m \u001b[0mtorch\u001b[0m\u001b[0;34m.\u001b[0m\u001b[0mrand\u001b[0m\u001b[0;34m(\u001b[0m\u001b[0;36m128\u001b[0m\u001b[0;34m,\u001b[0m \u001b[0;36m128\u001b[0m\u001b[0;34m)\u001b[0m\u001b[0;34m.\u001b[0m\u001b[0mto\u001b[0m\u001b[0;34m(\u001b[0m\u001b[0mdevice\u001b[0m\u001b[0;34m)\u001b[0m\u001b[0;34m\u001b[0m\u001b[0;34m\u001b[0m\u001b[0m\n\u001b[1;32m      2\u001b[0m \u001b[0my\u001b[0m \u001b[0;34m=\u001b[0m \u001b[0mtorch\u001b[0m\u001b[0;34m.\u001b[0m\u001b[0mrand\u001b[0m\u001b[0;34m(\u001b[0m\u001b[0;36m128\u001b[0m\u001b[0;34m,\u001b[0m \u001b[0;36m128\u001b[0m\u001b[0;34m)\u001b[0m\u001b[0;34m\u001b[0m\u001b[0;34m\u001b[0m\u001b[0m\n\u001b[0;32m----> 3\u001b[0;31m \u001b[0mx\u001b[0m\u001b[0;34m*\u001b[0m\u001b[0my\u001b[0m\u001b[0;34m\u001b[0m\u001b[0;34m\u001b[0m\u001b[0m\n\u001b[0m",
            "\u001b[0;31mRuntimeError\u001b[0m: Expected all tensors to be on the same device, but found at least two devices, cuda:0 and cpu!"
          ]
        }
      ]
    },
    {
      "cell_type": "code",
      "source": [
        "x = x.cpu()\n",
        "x*y"
      ],
      "metadata": {
        "colab": {
          "base_uri": "https://localhost:8080/"
        },
        "id": "TNNCJ7TOUppa",
        "outputId": "829ea10c-85e3-429e-bd1a-02370bc12e66"
      },
      "execution_count": 23,
      "outputs": [
        {
          "output_type": "execute_result",
          "data": {
            "text/plain": [
              "tensor([[0.1788, 0.1225, 0.1978,  ..., 0.4529, 0.0151, 0.0048],\n",
              "        [0.0879, 0.1744, 0.2375,  ..., 0.0436, 0.2493, 0.1883],\n",
              "        [0.4422, 0.0574, 0.4379,  ..., 0.5199, 0.2239, 0.0132],\n",
              "        ...,\n",
              "        [0.2681, 0.1797, 0.0340,  ..., 0.2858, 0.0941, 0.1511],\n",
              "        [0.6474, 0.0864, 0.1872,  ..., 0.5183, 0.3104, 0.3278],\n",
              "        [0.4671, 0.2021, 0.3420,  ..., 0.3366, 0.0372, 0.1342]])"
            ]
          },
          "metadata": {},
          "execution_count": 23
        }
      ]
    },
    {
      "cell_type": "code",
      "execution_count": null,
      "metadata": {
        "ExecuteTime": {
          "end_time": "2021-03-22T05:33:01.957208Z",
          "start_time": "2021-03-22T05:33:01.750393Z"
        },
        "id": "acyXhTRpfvan"
      },
      "outputs": [],
      "source": [
        "# A helper function to move various types of objects to a device\n",
        "def moveTo(obj, device):\n",
        "    \"\"\"\n",
        "    obj: the python object to move to a device, or to move its contents to a device\n",
        "    device: the compute device to move objects to\n",
        "    \"\"\"\n",
        "    if isinstance(obj, list):\n",
        "        return [moveTo(x, device) for x in obj]\n",
        "    elif isinstance(obj, tuple):\n",
        "        return tuple(moveTo(list(obj), device))\n",
        "    elif isinstance(obj, set):\n",
        "        return set(moveTo(list(obj), device))\n",
        "    elif isinstance(obj, dict):\n",
        "        to_ret = dict()\n",
        "        for key, value in obj.items():\n",
        "            to_ret[moveTo(key, device)] = moveTo(value, device)\n",
        "        return to_ret\n",
        "    elif hasattr(obj, \"to\"):\n",
        "        return obj.to(device)\n",
        "    else:\n",
        "        return obj\n",
        "\n",
        "some_tensors = [torch.tensor(1), torch.tensor(2)]\n",
        "print(some_tensors)\n",
        "print(moveTo(some_tensors, device))"
      ]
    },
    {
      "cell_type": "code",
      "source": [
        "# _ gives inplace versions of functions (do not use inplace operations, at least when you need gradients)\n",
        "# inplace operations can help save memory, if used properly\n",
        "op1 = torch.ones(3,3)\n",
        "op2 = torch.rand(3,3)\n",
        "print(op1)\n",
        "print(op2)\n",
        "print(op1.add(op2))\n",
        "print(op1)\n",
        "print(op1.add_(op2)) # inplace operation, not recommended\n",
        "\n",
        "print(op1)\n",
        "print(op1 + 1)\n",
        "print(op1)\n",
        "op1 += 1 # inplace operation, not recommended\n",
        "print(op1)"
      ],
      "metadata": {
        "colab": {
          "base_uri": "https://localhost:8080/"
        },
        "id": "11NnPrA2Xecz",
        "outputId": "15963fef-be4e-47d1-8030-a0f4907bb495"
      },
      "execution_count": 24,
      "outputs": [
        {
          "output_type": "stream",
          "name": "stdout",
          "text": [
            "tensor([[1., 1., 1.],\n",
            "        [1., 1., 1.],\n",
            "        [1., 1., 1.]])\n",
            "tensor([[0.2515, 0.3062, 0.3974],\n",
            "        [0.8909, 0.6970, 0.7342],\n",
            "        [0.4137, 0.3289, 0.6258]])\n",
            "tensor([[1.2515, 1.3062, 1.3974],\n",
            "        [1.8909, 1.6970, 1.7342],\n",
            "        [1.4137, 1.3289, 1.6258]])\n",
            "tensor([[1., 1., 1.],\n",
            "        [1., 1., 1.],\n",
            "        [1., 1., 1.]])\n",
            "tensor([[1.2515, 1.3062, 1.3974],\n",
            "        [1.8909, 1.6970, 1.7342],\n",
            "        [1.4137, 1.3289, 1.6258]])\n",
            "tensor([[1.2515, 1.3062, 1.3974],\n",
            "        [1.8909, 1.6970, 1.7342],\n",
            "        [1.4137, 1.3289, 1.6258]])\n",
            "tensor([[2.2515, 2.3062, 2.3974],\n",
            "        [2.8909, 2.6970, 2.7342],\n",
            "        [2.4137, 2.3289, 2.6258]])\n",
            "tensor([[1.2515, 1.3062, 1.3974],\n",
            "        [1.8909, 1.6970, 1.7342],\n",
            "        [1.4137, 1.3289, 1.6258]])\n",
            "tensor([[2.2515, 2.3062, 2.3974],\n",
            "        [2.8909, 2.6970, 2.7342],\n",
            "        [2.4137, 2.3289, 2.6258]])\n"
          ]
        }
      ]
    },
    {
      "cell_type": "code",
      "source": [
        "x = torch.rand(1, requires_grad=True)\n",
        "print(x)"
      ],
      "metadata": {
        "id": "3JGT1DciQc2q",
        "colab": {
          "base_uri": "https://localhost:8080/"
        },
        "outputId": "35b1b2fd-b74e-4826-d2db-b4ae5d0c1bb5"
      },
      "execution_count": 25,
      "outputs": [
        {
          "output_type": "stream",
          "name": "stdout",
          "text": [
            "tensor([0.0498], requires_grad=True)\n"
          ]
        }
      ]
    },
    {
      "cell_type": "code",
      "source": [
        "y = x + 2\n",
        "print(y)\n",
        "z = y*y\n",
        "#z = y.mean()\n",
        "\n",
        "#y.retain_grad()\n",
        "z.backward()\n",
        "print(x.grad) # dz/dx\n",
        "#print(y.grad)\n",
        "#x.gra\n",
        "\n",
        "# No grad - 3 known ways\n",
        "#x.requires_grad_(False)\n",
        "#x.detach()\n",
        "with torch.no_grad():\n",
        "  y = x*x\n",
        "  #print(y)"
      ],
      "metadata": {
        "id": "DKEPJSlHQhRz",
        "colab": {
          "base_uri": "https://localhost:8080/"
        },
        "outputId": "d5b7f7fc-4aba-4f39-90f0-c432dc923f0b"
      },
      "execution_count": 26,
      "outputs": [
        {
          "output_type": "stream",
          "name": "stdout",
          "text": [
            "tensor([2.0498], grad_fn=<AddBackward0>)\n",
            "tensor([4.0995])\n"
          ]
        }
      ]
    },
    {
      "cell_type": "code",
      "source": [
        "x = torch.rand(2, requires_grad=True)\n",
        "print(x)"
      ],
      "metadata": {
        "colab": {
          "base_uri": "https://localhost:8080/"
        },
        "id": "WNstta8geCow",
        "outputId": "b1d38970-0cc4-47da-b1b0-633864c8a1b4"
      },
      "execution_count": null,
      "outputs": [
        {
          "output_type": "stream",
          "name": "stdout",
          "text": [
            "tensor([0.6923, 0.2652], requires_grad=True)\n"
          ]
        }
      ]
    },
    {
      "cell_type": "code",
      "source": [
        "y = x + 2\n",
        "print(y)\n",
        "#z = y*y\n",
        "z = y.mean()\n",
        "\n",
        "y.retain_grad()\n",
        "z.backward()\n",
        "print(x.grad) # dz/dx\n",
        "print(y.grad)\n",
        "\n",
        "# No grad - 3 known ways\n",
        "#x.requires_grad_(False)\n",
        "#x.detach()\n",
        "with torch.no_grad():\n",
        "  y = x*x\n",
        "  #print(y)"
      ],
      "metadata": {
        "colab": {
          "base_uri": "https://localhost:8080/"
        },
        "id": "G_UOeniHeZUn",
        "outputId": "805b4f5a-1acb-4920-bf67-3c07f252afdb"
      },
      "execution_count": null,
      "outputs": [
        {
          "output_type": "stream",
          "name": "stdout",
          "text": [
            "tensor([2.6923, 2.2652], grad_fn=<AddBackward0>)\n",
            "tensor([0.5000, 0.5000])\n",
            "tensor([0.5000, 0.5000])\n"
          ]
        }
      ]
    },
    {
      "cell_type": "code",
      "source": [
        "!python --version"
      ],
      "metadata": {
        "colab": {
          "base_uri": "https://localhost:8080/"
        },
        "id": "sfwH9FFubPj4",
        "outputId": "38452b55-2b7d-4c80-8ede-95d23b4dc9f6"
      },
      "execution_count": 27,
      "outputs": [
        {
          "output_type": "stream",
          "name": "stdout",
          "text": [
            "Python 3.11.11\n"
          ]
        }
      ]
    },
    {
      "cell_type": "code",
      "execution_count": null,
      "metadata": {
        "ExecuteTime": {
          "end_time": "2021-03-22T05:33:02.498610Z",
          "start_time": "2021-03-22T05:33:01.960934Z"
        },
        "id": "lAC03P-Cfvan",
        "colab": {
          "base_uri": "https://localhost:8080/",
          "height": 238
        },
        "outputId": "d5191acb-f4de-4294-81c8-09aa1be2f1d6"
      },
      "outputs": [
        {
          "output_type": "error",
          "ename": "NameError",
          "evalue": "ignored",
          "traceback": [
            "\u001b[0;31m---------------------------------------------------------------------------\u001b[0m",
            "\u001b[0;31mNameError\u001b[0m                                 Traceback (most recent call last)",
            "\u001b[0;32m<ipython-input-2-06f7d6bc05f6>\u001b[0m in \u001b[0;36m<module>\u001b[0;34m\u001b[0m\n\u001b[1;32m      3\u001b[0m     \u001b[0;32mreturn\u001b[0m \u001b[0mtorch\u001b[0m\u001b[0;34m.\u001b[0m\u001b[0mpow\u001b[0m\u001b[0;34m(\u001b[0m\u001b[0;34m(\u001b[0m\u001b[0mx\u001b[0m\u001b[0;34m-\u001b[0m\u001b[0;36m2.0\u001b[0m\u001b[0;34m)\u001b[0m\u001b[0;34m,\u001b[0m \u001b[0;36m2\u001b[0m\u001b[0;34m)\u001b[0m\u001b[0;34m\u001b[0m\u001b[0;34m\u001b[0m\u001b[0m\n\u001b[1;32m      4\u001b[0m \u001b[0;34m\u001b[0m\u001b[0m\n\u001b[0;32m----> 5\u001b[0;31m \u001b[0mx_axis_vals\u001b[0m \u001b[0;34m=\u001b[0m \u001b[0mnp\u001b[0m\u001b[0;34m.\u001b[0m\u001b[0mlinspace\u001b[0m\u001b[0;34m(\u001b[0m\u001b[0;34m-\u001b[0m\u001b[0;36m7\u001b[0m\u001b[0;34m,\u001b[0m\u001b[0;36m9\u001b[0m\u001b[0;34m,\u001b[0m\u001b[0;36m100\u001b[0m\u001b[0;34m)\u001b[0m\u001b[0;34m\u001b[0m\u001b[0;34m\u001b[0m\u001b[0m\n\u001b[0m\u001b[1;32m      6\u001b[0m \u001b[0my_axis_vals\u001b[0m \u001b[0;34m=\u001b[0m \u001b[0mf\u001b[0m\u001b[0;34m(\u001b[0m\u001b[0mtorch\u001b[0m\u001b[0;34m.\u001b[0m\u001b[0mtensor\u001b[0m\u001b[0;34m(\u001b[0m\u001b[0mx_axis_vals\u001b[0m\u001b[0;34m)\u001b[0m\u001b[0;34m)\u001b[0m\u001b[0;34m.\u001b[0m\u001b[0mnumpy\u001b[0m\u001b[0;34m(\u001b[0m\u001b[0;34m)\u001b[0m\u001b[0;34m\u001b[0m\u001b[0;34m\u001b[0m\u001b[0m\n\u001b[1;32m      7\u001b[0m \u001b[0;34m\u001b[0m\u001b[0m\n",
            "\u001b[0;31mNameError\u001b[0m: name 'np' is not defined"
          ]
        }
      ],
      "source": [
        "#@title\n",
        "def f(x):\n",
        "    return torch.pow((x-2.0), 2)\n",
        "\n",
        "x_axis_vals = np.linspace(-7,9,100)\n",
        "y_axis_vals = f(torch.tensor(x_axis_vals)).numpy()\n",
        "\n",
        "sns.lineplot(x=x_axis_vals, y=y_axis_vals, label='$f(x)=(x-2)^2$')\n",
        "#@title\n",
        "def fP(x): #Defining the derivative of f(x) manually\n",
        "    return 2*x-4\n",
        "\n",
        "y_axis_vals_p = fP(torch.tensor(x_axis_vals)).numpy()\n",
        "\n",
        "#First, lets draw a black line at 0, so that we can easily tell if something is positive or negative\n",
        "sns.lineplot(x=x_axis_vals, y=[0.0]*len(x_axis_vals), label=\"0\", color='black')\n",
        "sns.lineplot(x=x_axis_vals, y=y_axis_vals, label='$f(x) = (x-2)^2$')\n",
        "sns.lineplot(x=x_axis_vals, y=y_axis_vals_p, label=\"$f'(x)=2 x - 4$\")\n",
        "#@title\n",
        "x = torch.tensor([-3.5], requires_grad=True)\n",
        "print(x.grad)\n",
        "#@title\n",
        "value = f(x)\n",
        "print(value)\n",
        "#@title\n",
        "value.backward()\n",
        "print(x.grad)\n",
        "#@title\n",
        "x = torch.tensor([-3.5], requires_grad=True)\n",
        "\n",
        "x_cur = x.clone()\n",
        "x_prev = x_cur*100 #Make the initial \"previous\" solution larger\n",
        "epsilon = 1e-5\n",
        "eta = 0.1\n",
        "\n",
        "while torch.linalg.norm(x_cur-x_prev) > epsilon:\n",
        "    x_prev = x_cur.clone() #We need to make a clone here so that x_prev and x_cur don't point to the same object\n",
        "\n",
        "    #Compute our function, gradient, and update\n",
        "    value = f(x)\n",
        "    value.backward()\n",
        "    x.data -= eta * x.grad\n",
        "    x.grad.zero_() #We need to zero out the old gradient, as py-torch will not do that for us\n",
        "\n",
        "    #What are we currently now?\n",
        "    x_cur = x.data\n",
        "\n",
        "print(x_cur)\n",
        "#@title\n",
        "x_param = torch.nn.Parameter(torch.tensor([-3.5]), requires_grad=True)\n",
        "#@title\n",
        "optimizer = torch.optim.SGD([x_param], lr=eta)\n",
        "#@title\n",
        "for epoch in range(60):\n",
        "    optimizer.zero_grad() #x.grad.zero_()\n",
        "    loss_incurred  = f(x_param)\n",
        "    loss_incurred.backward()\n",
        "    optimizer.step() #x.data -= eta * x.grad\n",
        "print(x_param.data)\n",
        "#@title\n",
        "from torch.utils.data import Dataset\n",
        "from sklearn.datasets import fetch_openml\n",
        "\n",
        "# Load data from https://www.openml.org/d/554\n",
        "X, y = fetch_openml('mnist_784', version=1, return_X_y=True)\n",
        "print(X.shape)\n",
        "#@title\n",
        "class SimpleDataset(Dataset):\n",
        "\n",
        "    def __init__(self, X, y):\n",
        "        super(SimpleDataset, self).__init__()\n",
        "        self.X = X\n",
        "        self.y = y\n",
        "\n",
        "    def __getitem__(self, index):\n",
        "        #This \"work\" could have gone in the constructor, but you should get into\n",
        "        inputs = torch.tensor(self.X[index,:], dtype=torch.float32)\n",
        "        targets = torch.tensor(int(self.y[index]), dtype=torch.int64)\n",
        "        return inputs, targets\n",
        "\n",
        "    def __len__(self):\n",
        "        return self.X.shape[0]\n",
        "#Now we can make a PyTorch dataset\n",
        "dataset = SimpleDataset(X, y)\n",
        "#@title\n",
        "print(\"Length: \", len(dataset))\n",
        "example, label = dataset[0]\n",
        "print(\"Features: \", example.shape) #Will return 784\n",
        "print(\"Label of index 0: \", label)\n",
        "#@title\n",
        "plt.imshow(example.reshape((28,28)))\n",
        "#@title\n",
        "train_size = int(len(dataset)*0.8)\n",
        "test_size = len(dataset)-train_size\n",
        "\n",
        "train_dataset, test_dataset = torch.utils.data.random_split(dataset, (train_size, test_size))\n",
        "print(\"{} examples for training and {} for testing\".format(len(train_dataset), len(test_dataset)))"
      ]
    }
  ],
  "metadata": {
    "author": "Why PyTorch?",
    "celltoolbar": "Tags",
    "kernelspec": {
      "display_name": "Python 3",
      "language": "python",
      "name": "python3"
    },
    "language_info": {
      "codemirror_mode": {
        "name": "ipython",
        "version": 3
      },
      "file_extension": ".py",
      "mimetype": "text/x-python",
      "name": "python",
      "nbconvert_exporter": "python",
      "pygments_lexer": "ipython3",
      "version": "3.7.9"
    },
    "latex_envs": {
      "LaTeX_envs_menu_present": true,
      "autoclose": false,
      "autocomplete": false,
      "bibliofile": "biblio.bib",
      "cite_by": "apalike",
      "current_citInitial": 1,
      "eqLabelWithNumbers": true,
      "eqNumInitial": 1,
      "hotkeys": {
        "equation": "Ctrl-E",
        "itemize": "Ctrl-I"
      },
      "labels_anchors": false,
      "latex_user_defs": false,
      "report_style_numbering": false,
      "user_envs_cfg": false
    },
    "latex_metadata": {
      "title": "The Mechanics of Learning"
    },
    "varInspector": {
      "cols": {
        "lenName": 16,
        "lenType": 16,
        "lenVar": 40
      },
      "kernels_config": {
        "python": {
          "delete_cmd_postfix": "",
          "delete_cmd_prefix": "del ",
          "library": "var_list.py",
          "varRefreshCmd": "print(var_dic_list())"
        },
        "r": {
          "delete_cmd_postfix": ") ",
          "delete_cmd_prefix": "rm(",
          "library": "var_list.r",
          "varRefreshCmd": "cat(var_dic_list()) "
        }
      },
      "types_to_exclude": [
        "module",
        "function",
        "builtin_function_or_method",
        "instance",
        "_Feature"
      ],
      "window_display": false
    },
    "colab": {
      "provenance": []
    },
    "accelerator": "GPU",
    "gpuClass": "standard"
  },
  "nbformat": 4,
  "nbformat_minor": 0
}