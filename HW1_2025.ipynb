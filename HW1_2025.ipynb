{
  "cells": [
    {
      "cell_type": "code",
      "execution_count": null,
      "metadata": {
        "colab": {
          "base_uri": "https://localhost:8080/"
        },
        "id": "D98v-QRhVp_N",
        "outputId": "5627b915-3155-4e09-aa2c-adb8eadb7f97"
      },
      "outputs": [
        {
          "output_type": "stream",
          "name": "stderr",
          "text": [
            "<ipython-input-36-88716e25256b>:10: DeprecationWarning: `set_matplotlib_formats` is deprecated since IPython 7.23, directly use `matplotlib_inline.backend_inline.set_matplotlib_formats()`\n",
            "  set_matplotlib_formats('png', 'pdf')\n"
          ]
        }
      ],
      "source": [
        "import seaborn as sns\n",
        "import matplotlib.pyplot as plt\n",
        "import numpy as np\n",
        "from tqdm.autonotebook import tqdm\n",
        "import pandas as pd\n",
        "%matplotlib inline\n",
        "import torch\n",
        "%matplotlib inline\n",
        "from IPython.display import set_matplotlib_formats\n",
        "set_matplotlib_formats('png', 'pdf')\n",
        "import time"
      ]
    },
    {
      "cell_type": "code",
      "execution_count": null,
      "metadata": {
        "colab": {
          "base_uri": "https://localhost:8080/"
        },
        "id": "VfMARfiToeed",
        "outputId": "d1e76034-7d4d-49b5-9a25-d3694516ec45"
      },
      "outputs": [
        {
          "output_type": "stream",
          "name": "stdout",
          "text": [
            "[ 0.82186815 -0.18336468  1.07579376 ... -1.0039591  -0.37976881\n",
            " -0.05727668]\n",
            "[ 0.44145677  0.42247552 -0.59460994 ...  0.69426214  0.34160649\n",
            " -0.71747991]\n",
            "[1 1 1 ... 0 1 0]\n"
          ]
        }
      ],
      "source": [
        "rng = np.random.default_rng(seed=42)\n",
        "raw_data = rng.random(20000)\n",
        "raw_data[0:10000]\n",
        "X_data = raw_data[0:10000] * 3 - 1.5\n",
        "print(X_data)\n",
        "Y_data = raw_data[10000:20000] * 2 - 1\n",
        "print(Y_data)\n",
        "Label = (X_data**2 * (np.sin(3*X_data))**10 + Y_data**2 < 0.4).astype(int)\n",
        "print(Label)"
      ]
    },
    {
      "cell_type": "code",
      "execution_count": null,
      "metadata": {
        "id": "7E6vqS41DSKt"
      },
      "outputs": [],
      "source": []
    }
  ],
  "metadata": {
    "accelerator": "GPU",
    "colab": {
      "provenance": []
    },
    "gpuClass": "standard",
    "kernelspec": {
      "display_name": "Python 3",
      "language": "python",
      "name": "python3"
    },
    "language_info": {
      "codemirror_mode": {
        "name": "ipython",
        "version": 3
      },
      "file_extension": ".py",
      "mimetype": "text/x-python",
      "name": "python",
      "nbconvert_exporter": "python",
      "pygments_lexer": "ipython3",
      "version": "3.8.8"
    }
  },
  "nbformat": 4,
  "nbformat_minor": 0
}